{
 "cells": [
  {
   "cell_type": "markdown",
   "metadata": {},
   "source": [
    "# NSF Committee on Software Infrastructure for Heterogeneous Computing\n",
    "\n",
    "## 2017 Survey of principal investigators\n",
    "\n",
    "### Lorena Barba\n",
    "\n",
    "**Analysis of Q11 - Which programming languages does your research group use? Please give a comma-separated list**"
   ]
  },
  {
   "cell_type": "code",
   "execution_count": 1,
   "metadata": {
    "collapsed": true
   },
   "outputs": [],
   "source": [
    "import numpy\n",
    "import pandas\n",
    "from matplotlib import pyplot\n",
    "%matplotlib inline\n",
    "\n",
    "#Import rcParams to set font styles\n",
    "from matplotlib import rcParams\n",
    "\n",
    "#Set font style and size \n",
    "rcParams['font.family'] = 'serif'\n",
    "rcParams['font.size'] = 16"
   ]
  },
  {
   "cell_type": "markdown",
   "metadata": {},
   "source": [
    "The raw data in `NSF_Software_Survey_rawdata.csv` is organized as a visual spreadsheet, not as a comma-separated-values data set. It's impossible to use this as the data file. Instead, I copied the answers to survey Q11 into a new text file—these are lines 6288 to 9334 of the spreadsheet.\n",
    "\n",
    "Loading the text data into a list of strings, one string per line of the text, we find there are 3047 lines. Below, the first five lines are shown."
   ]
  },
  {
   "cell_type": "code",
   "execution_count": 12,
   "metadata": {},
   "outputs": [],
   "source": [
    "q11_languages_file= open('Q11-languages.txt')"
   ]
  },
  {
   "cell_type": "code",
   "execution_count": 4,
   "metadata": {
    "collapsed": true
   },
   "outputs": [],
   "source": [
    "q11_languages_text = q11_languages_file.readlines()"
   ]
  },
  {
   "cell_type": "code",
   "execution_count": 5,
   "metadata": {},
   "outputs": [
    {
     "data": {
      "text/plain": [
       "list"
      ]
     },
     "execution_count": 5,
     "metadata": {},
     "output_type": "execute_result"
    }
   ],
   "source": [
    "type(q11_languages_text)"
   ]
  },
  {
   "cell_type": "code",
   "execution_count": 6,
   "metadata": {},
   "outputs": [
    {
     "data": {
      "text/plain": [
       "3047"
      ]
     },
     "execution_count": 6,
     "metadata": {},
     "output_type": "execute_result"
    }
   ],
   "source": [
    "len(q11_languages_text)"
   ]
  },
  {
   "cell_type": "code",
   "execution_count": 7,
   "metadata": {},
   "outputs": [
    {
     "data": {
      "text/plain": [
       "['Fortran, C++, Python, MPI, OpenMP, CUDA\\n',\n",
       " 'C++, Java, Perl, Python, Ruby, R\\n',\n",
       " 'Python 3\\n',\n",
       " 'Fortran, C, C++, Python, bash/sed/awk/grep\\n',\n",
       " 'c, c++, python\\n']"
      ]
     },
     "execution_count": 7,
     "metadata": {},
     "output_type": "execute_result"
    }
   ],
   "source": [
    "q11_languages_text[0:5]"
   ]
  },
  {
   "cell_type": "markdown",
   "metadata": {},
   "source": [
    "Survey respondents did not follow instructions to provide a comma-separated list of languages. Many responded in full sentences (like _\"Too many to list\"_), others separated the language names with semicolon or slash, yet others embedded comments in parenthesis.\n",
    "\n",
    "Using Sublime Text, I applied find-and-replace to get rid of all punctuation marks — ` , ; : ! ? ( ) / ` — replacing them by spaces. Then I re-opened the file into `q11_languages_file` (input cell `[12]` above). The text file is changed now, so I can't re-execute the cells to replicate the three outputs above—unless creating the text from the raw data all over again.\n",
    "\n",
    "Using a Python dictionary, turn the text all into lower case (some folks write Python, others python, etc.), then split each line at the spaces, and count word values into the dictionary. Then use a list to sort by count."
   ]
  },
  {
   "cell_type": "code",
   "execution_count": 13,
   "metadata": {
    "collapsed": true
   },
   "outputs": [],
   "source": [
    "count = {} \n",
    "\n",
    "for line in q11_languages_file:\n",
    "    line = line.lower()\n",
    "    words = line.split()\n",
    "    \n",
    "    for word in words:\n",
    "        count[word] = count.get(word,0) + 1"
   ]
  },
  {
   "cell_type": "code",
   "execution_count": 15,
   "metadata": {},
   "outputs": [],
   "source": [
    "#count"
   ]
  },
  {
   "cell_type": "code",
   "execution_count": 18,
   "metadata": {},
   "outputs": [
    {
     "name": "stdout",
     "output_type": "stream",
     "text": [
      "python 1092\n",
      "matlab 699\n",
      "c++ 686\n",
      "r 650\n",
      "c 475\n",
      "fortran 353\n",
      "java 279\n",
      "mathematica 147\n",
      "perl 141\n",
      "javascript 109\n"
     ]
    }
   ],
   "source": [
    "lang_list = []\n",
    "for key, value in count.items():\n",
    "    lang_list.append((value, key))\n",
    "\n",
    "lang_list.sort(reverse = True)    \n",
    "for value, key in lang_list[:10]:\n",
    "    print (key, value)"
   ]
  },
  {
   "cell_type": "markdown",
   "metadata": {},
   "source": [
    "Nice. The most popular language is Python. (Showing only the first 10 list entries above.)\n",
    "\n",
    "Now I want a pretty bar plot. What I have is a list of tuples `(language, count)`, and I want an array-like of counts. Better use a `pandas` series so `language` is the label. "
   ]
  },
  {
   "cell_type": "code",
   "execution_count": 24,
   "metadata": {},
   "outputs": [],
   "source": [
    "popular_langs = list(zip(*lang_list[:16]))"
   ]
  },
  {
   "cell_type": "code",
   "execution_count": 25,
   "metadata": {},
   "outputs": [
    {
     "data": {
      "text/plain": [
       "[(1092, 699, 686, 650, 475, 353, 279, 147, 141, 109, 104, 94, 82, 79, 76, 69),\n",
       " ('python',\n",
       "  'matlab',\n",
       "  'c++',\n",
       "  'r',\n",
       "  'c',\n",
       "  'fortran',\n",
       "  'java',\n",
       "  'mathematica',\n",
       "  'perl',\n",
       "  'javascript',\n",
       "  'stata',\n",
       "  'spss',\n",
       "  'idl',\n",
       "  'cuda',\n",
       "  'sas',\n",
       "  'gaussian')]"
      ]
     },
     "execution_count": 25,
     "metadata": {},
     "output_type": "execute_result"
    }
   ],
   "source": [
    "popular_langs"
   ]
  },
  {
   "cell_type": "code",
   "execution_count": 27,
   "metadata": {},
   "outputs": [],
   "source": [
    "lang_series = pandas.Series(popular_langs[0],popular_langs[1])"
   ]
  },
  {
   "cell_type": "code",
   "execution_count": 28,
   "metadata": {},
   "outputs": [
    {
     "data": {
      "image/png": "[encoded data removed]",
      "text/plain": [
       "<matplotlib.figure.Figure at 0x10b403f60>"
      ]
     },
     "metadata": {},
     "output_type": "display_data"
    }
   ],
   "source": [
    "lang_series.plot.barh(figsize=(10,8), color='#008367', edgecolor='gray');"
   ]
  },
  {
   "cell_type": "markdown",
   "metadata": {},
   "source": [
    "**Here are the top-16 programming languages mentioned by the survey respondents**\n",
    "\n",
    "Note that irrelevant words start to appear beyond the 16th place; for example _\"and\"_ and _\"packages\"_. If someone cares, we could clean that up to look at the more infrequent languagues."
   ]
  }
 ],
 "metadata": {
  "kernelspec": {
   "display_name": "Python 3",
   "language": "python",
   "name": "python3"
  },
  "language_info": {
   "codemirror_mode": {
    "name": "ipython",
    "version": 3
   },
   "file_extension": ".py",
   "mimetype": "text/x-python",
   "name": "python",
   "nbconvert_exporter": "python",
   "pygments_lexer": "ipython3",
   "version": "3.6.2"
  }
 },
 "nbformat": 4,
 "nbformat_minor": 2
}
